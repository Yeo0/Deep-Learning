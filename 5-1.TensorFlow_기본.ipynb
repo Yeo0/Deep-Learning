{
 "cells": [
  {
   "cell_type": "code",
   "execution_count": 2,
   "metadata": {},
   "outputs": [
    {
     "name": "stdout",
     "output_type": "stream",
     "text": [
      "6234\n"
     ]
    }
   ],
   "source": [
    "import tensorflow as tf\n",
    "\n",
    "#상수 정의\n",
    "a=tf.constant(1234)\n",
    "b=tf.constant(5000)\n",
    "\n",
    "#계산정의\n",
    "add_op=a+b\n",
    "\n",
    "#세션 시작\n",
    "sess=tf.Session()\n",
    "res=sess.run(add_op)\n",
    "print(res)"
   ]
  },
  {
   "cell_type": "code",
   "execution_count": 3,
   "metadata": {},
   "outputs": [
    {
     "name": "stdout",
     "output_type": "stream",
     "text": [
      "14\n",
      "20\n"
     ]
    }
   ],
   "source": [
    "import tensorflow as tf\n",
    "\n",
    "#상수 정의\n",
    "a=tf.constant(2)\n",
    "b=tf.constant(3)\n",
    "c=tf.constant(4)\n",
    "\n",
    "#연산 정의하기\n",
    "calc1_op=a+b*c\n",
    "calc2_op=(a+b)*c\n",
    "\n",
    "#세션 시작하기\n",
    "sess=tf.Session()\n",
    "res1=sess.run(calc1_op)\n",
    "print(res1)\n",
    "res2=sess.run(calc2_op)\n",
    "print(res2)"
   ]
  },
  {
   "cell_type": "code",
   "execution_count": 4,
   "metadata": {},
   "outputs": [
    {
     "name": "stdout",
     "output_type": "stream",
     "text": [
      "390\n"
     ]
    }
   ],
   "source": [
    "#변수 표현\n",
    "import tensorflow as tf\n",
    "\n",
    "#상수 정의\n",
    "a=tf.constant(120,name=\"a\")\n",
    "b=tf.constant(130,name=\"b\")\n",
    "c=tf.constant(140,name=\"c\")\n",
    "\n",
    "#변수 정의\n",
    "v=tf.Variable(0, name=\"v\")\n",
    "\n",
    "#데이터 플로우 그래프 정의\n",
    "calc_op=a+b+c\n",
    "assign_op=tf.assign(v,calc_op)\n",
    "\n",
    "#세션 실행\n",
    "sess=tf.Session()\n",
    "sess.run(assign_op)\n",
    "\n",
    "#v내용 출력하기\n",
    "print(sess.run(v))"
   ]
  },
  {
   "cell_type": "code",
   "execution_count": 5,
   "metadata": {},
   "outputs": [
    {
     "name": "stdout",
     "output_type": "stream",
     "text": [
      "[2 4 6]\n",
      "[20 40 60]\n"
     ]
    }
   ],
   "source": [
    "#플레이스 홀더\n",
    "import tensorflow as tf\n",
    "\n",
    "#플레이스 홀더 정의하기\n",
    "a=tf.placeholder(tf.int32, [3]) #정수 자료형 3개를 가진 배열\n",
    "\n",
    "#배열을 모든 값을 2배하는 연산 정의하기\n",
    "b=tf.constant(2)\n",
    "x2op=a*b\n",
    "\n",
    "#세션 실행\n",
    "sess=tf.Session()\n",
    "\n",
    "#플레이스 홀더에 값을 넣고 실행\n",
    "r1=sess.run(x2op, feed_dict={a:[1,2,3]}) #feed_dict: 변수 할당 방법\n",
    "print(r1)\n",
    "r2=sess.run(x2op, feed_dict={a:[10,20,30]})\n",
    "print(r2)\n"
   ]
  },
  {
   "cell_type": "code",
   "execution_count": 6,
   "metadata": {},
   "outputs": [
    {
     "name": "stdout",
     "output_type": "stream",
     "text": [
      "[10 20 30 40 50]\n",
      "[100 200]\n"
     ]
    }
   ],
   "source": [
    "import tensorflow as tf\n",
    "\n",
    "#플레이스 홀더 정의하기\n",
    "a=tf.placeholder(tf.int32, [None]) #배열 크기 지정 x\n",
    "\n",
    "#배열을 모든 값을 10배하는 연산 정의하기\n",
    "b=tf.constant(10)\n",
    "x10op=a*b\n",
    "\n",
    "#세션 실행\n",
    "sess=tf.Session()\n",
    "\n",
    "#플레이스 홀더에 값을 넣고 실행\n",
    "r1=sess.run(x10op, feed_dict={a:[1,2,3,4,5]})\n",
    "print(r1)\n",
    "r2=sess.run(x10op, feed_dict={a:[10,20]})\n",
    "print(r2)"
   ]
  },
  {
   "cell_type": "code",
   "execution_count": 16,
   "metadata": {},
   "outputs": [
    {
     "name": "stdout",
     "output_type": "stream",
     "text": [
      "step= 0 cre= 109.17177 acc= 0.3862\n",
      "step= 500 cre= 52.821487 acc= 0.8258\n",
      "step= 1000 cre= 43.839874 acc= 0.8684\n",
      "step= 1500 cre= 41.017212 acc= 0.9468\n",
      "step= 2000 cre= 37.52663 acc= 0.961\n",
      "step= 2500 cre= 35.080284 acc= 0.9604\n",
      "step= 3000 cre= 30.37377 acc= 0.9464\n",
      "정답률= 0.9706\n"
     ]
    }
   ],
   "source": [
    "#bmi.csv를 읽고 tensorflow를 통해 학습시킴\n",
    "import pandas as pd\n",
    "import numpy as np\n",
    "import tensorflow as tf\n",
    "\n",
    "#csv 파일 로드\n",
    "data=pd.read_csv(\"bmi.csv\")\n",
    "\n",
    "\n",
    "#정규화\n",
    "data[\"height\"]=data[\"height\"]/200\n",
    "data[\"weight\"]=data[\"weight\"]/100\n",
    "\n",
    "#레이블을 배열로 변환하기\n",
    "#- thin=(1,0,0) / normar=(0,1,0) / fat=(0,0,1)\n",
    "bclass={\"thin\":[1,0,0],\"normal\":[0,1,0],\"fat\":[0,0,1]}\n",
    "data[\"label_pat\"]=data[\"label\"].apply(lambda x: np.array(bclass[x]))\n",
    "\n",
    "#테스트를 위한 데이터 분류 \n",
    "test_csv=data[15000:20000]\n",
    "test_pat=test_csv[[\"weight\", \"height\"]]\n",
    "test_ans=list(test_csv[\"label_pat\"])\n",
    "\n",
    "#데이터플로우 그래프 구축하기\n",
    "#플레이스홀더 선언하기\n",
    "x=tf.placeholder(tf.float32, [None,2]) # 키와 몸무게 데이터 넣기\n",
    "Y=tf.placeholder(tf.float32, [None,3]) # 정답 레이블 넣기\n",
    "\n",
    "#변수 선언하기\n",
    "W=tf.Variable(tf.zeros([2,3])) #가중치\n",
    "b=tf.Variable(tf.zeros([3])) #bias\n",
    "\n",
    "#소프트맥스 함수정의\n",
    "y=tf.nn.softmax(tf.matmul(x,W)+b) #행렬곱\n",
    "\n",
    "#모델 훈련\n",
    "cross_entropy=-tf.reduce_sum(Y*tf.log(y))\n",
    "optimizer=tf.train.GradientDescentOptimizer(0.01) #0.01: 학습계수\n",
    "train=optimizer.minimize(cross_entropy)\n",
    "\n",
    "#정답률 구하기\n",
    "predict=tf.equal(tf.argmax(y,1), tf.argmax(Y,1))\n",
    "accuracy=tf.reduce_mean(tf.cast(predict, tf.float32))\n",
    "\n",
    "#세션 시작\n",
    "sess=tf.Session()\n",
    "sess.run(tf.global_variables_initializer()) #변수 초기화\n",
    "\n",
    "#학습시키기\n",
    "for step in range(3500):\n",
    "    i = (step*100)%14000 #14000과 나눴을 때의 나머지\n",
    "    rows=data[1+i:1+i+100]\n",
    "    x_pat=rows[[\"weight\",\"height\"]]\n",
    "    y_ans=list(rows[\"label_pat\"])\n",
    "    fd={x:x_pat, Y:y_ans}\n",
    "    sess.run(train, feed_dict=fd)\n",
    "    if step%500==0:\n",
    "        ce=sess.run(cross_entropy, feed_dict=fd)            \n",
    "        acc=sess.run(accuracy, feed_dict={x:test_pat, Y:test_ans})\n",
    "        print(\"step=\", step, \"cre=\", ce, \"acc=\", acc)\n",
    "\n",
    "            \n",
    "#최종적인 정답률\n",
    "acc=sess.run(accuracy, feed_dict={x:test_pat, Y:test_ans})\n",
    "print(\"정답률=\",acc)"
   ]
  },
  {
   "cell_type": "code",
   "execution_count": 11,
   "metadata": {},
   "outputs": [
    {
     "data": {
      "text/plain": [
       "300"
      ]
     },
     "execution_count": 11,
     "metadata": {},
     "output_type": "execute_result"
    }
   ],
   "source": [
    "(3*100)%14000"
   ]
  }
 ],
 "metadata": {
  "kernelspec": {
   "display_name": "Python 3",
   "language": "python",
   "name": "python3"
  },
  "language_info": {
   "codemirror_mode": {
    "name": "ipython",
    "version": 3
   },
   "file_extension": ".py",
   "mimetype": "text/x-python",
   "name": "python",
   "nbconvert_exporter": "python",
   "pygments_lexer": "ipython3",
   "version": "3.6.6"
  }
 },
 "nbformat": 4,
 "nbformat_minor": 2
}
