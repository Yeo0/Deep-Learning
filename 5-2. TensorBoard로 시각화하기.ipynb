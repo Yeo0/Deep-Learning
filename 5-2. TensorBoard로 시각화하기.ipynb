{
 "cells": [
  {
   "cell_type": "code",
   "execution_count": 1,
   "metadata": {},
   "outputs": [
    {
     "name": "stdout",
     "output_type": "stream",
     "text": [
      "600\n"
     ]
    }
   ],
   "source": [
    "import tensorflow as tf\n",
    "\n",
    "#데이터 플로우 그래프 구축\n",
    "a=tf.constant(20,name=\"a\")\n",
    "b=tf.constant(30,name=\"b\")\n",
    "mul_op=a*b\n",
    "\n",
    "#세션 생성\n",
    "sess=tf.Session()\n",
    "\n",
    "#TensorBoard 사용하기\n",
    "tw=tf.summary.FileWriter(\"log_dir\", graph=sess.graph)\n",
    "\n",
    "#세션 실행하기\n",
    "print(sess.run(mul_op))"
   ]
  },
  {
   "cell_type": "code",
   "execution_count": 7,
   "metadata": {},
   "outputs": [
    {
     "name": "stdout",
     "output_type": "stream",
     "text": [
      "60100\n"
     ]
    }
   ],
   "source": [
    "import tensorflow as tf\n",
    "\n",
    "#상수와 변수 선언\n",
    "a=tf.constant(100,name=\"a\")\n",
    "b=tf.constant(200,name=\"b\")\n",
    "c=tf.constant(300,name=\"c\")\n",
    "v=tf.Variable(0,name=\"v\")\n",
    "\n",
    "#곱셈 수행 그래프 정의\n",
    "calc_op=a+b*c\n",
    "assign_op=tf.assign(v, calc_op) #연산을 변수에 대입\n",
    "\n",
    "#세션 생성\n",
    "sess=tf.Session()\n",
    "\n",
    "#TensorBoard 사용하기\n",
    "tw=tf.summary.FileWriter(\"log_dir\", graph=sess.graph)\n",
    "\n",
    "#세션 실행하기\n",
    "sess.run(assign_op)\n",
    "print(sess.run(v))\n"
   ]
  },
  {
   "cell_type": "code",
   "execution_count": 9,
   "metadata": {},
   "outputs": [
    {
     "name": "stdout",
     "output_type": "stream",
     "text": [
      "step= 0 cre= 109.17177 acc= 0.3862\n",
      "step= 500 cre= 52.821487 acc= 0.8258\n",
      "step= 1000 cre= 43.839874 acc= 0.8684\n",
      "step= 1500 cre= 41.017212 acc= 0.9468\n",
      "step= 2000 cre= 37.52663 acc= 0.961\n",
      "step= 2500 cre= 35.080284 acc= 0.9604\n",
      "step= 3000 cre= 30.37377 acc= 0.9464\n",
      "정답률= 0.9706\n"
     ]
    }
   ],
   "source": [
    "#bmi.csv를 읽고 tensorflow를 통해 학습시킴\n",
    "import pandas as pd\n",
    "import numpy as np\n",
    "import tensorflow as tf\n",
    "\n",
    "#csv 파일 로드\n",
    "data=pd.read_csv(\"bmi.csv\")\n",
    "\n",
    "\n",
    "#정규화\n",
    "data[\"height\"]=data[\"height\"]/200\n",
    "data[\"weight\"]=data[\"weight\"]/100\n",
    "\n",
    "#레이블을 배열로 변환하기\n",
    "#- thin=(1,0,0) / normar=(0,1,0) / fat=(0,0,1)\n",
    "bclass={\"thin\":[1,0,0],\"normal\":[0,1,0],\"fat\":[0,0,1]}\n",
    "data[\"label_pat\"]=data[\"label\"].apply(lambda x: np.array(bclass[x]))\n",
    "\n",
    "#테스트를 위한 데이터 분류 \n",
    "test_csv=data[15000:20000]\n",
    "test_pat=test_csv[[\"weight\", \"height\"]]\n",
    "test_ans=list(test_csv[\"label_pat\"])\n",
    "\n",
    "#데이터플로우 그래프 구축하기\n",
    "#플레이스홀더 선언하기\n",
    "x=tf.placeholder(tf.float32, [None,2]) # 키와 몸무게 데이터 넣기\n",
    "Y=tf.placeholder(tf.float32, [None,3]) # 정답 레이블 넣기\n",
    "\n",
    "#변수 선언하기\n",
    "W=tf.Variable(tf.zeros([2,3])) #가중치\n",
    "b=tf.Variable(tf.zeros([3])) #bias\n",
    "\n",
    "#소프트맥스 함수정의\n",
    "y=tf.nn.softmax(tf.matmul(x,W)+b) #행렬곱\n",
    "\n",
    "#모델 훈련\n",
    "cross_entropy=-tf.reduce_sum(Y*tf.log(y))\n",
    "optimizer=tf.train.GradientDescentOptimizer(0.01) #0.01: 학습계수\n",
    "train=optimizer.minimize(cross_entropy)\n",
    "\n",
    "#정답률 구하기\n",
    "predict=tf.equal(tf.argmax(y,1), tf.argmax(Y,1))\n",
    "accuracy=tf.reduce_mean(tf.cast(predict, tf.float32))\n",
    "\n",
    "#세션 시작\n",
    "sess=tf.Session()\n",
    "\n",
    "#tensorboard사용\n",
    "tw=tf.summary.FileWriter(\"log_dir\",graph=sess.graph)\n",
    "\n",
    "#세션 실행\n",
    "sess.run(tf.global_variables_initializer()) #변수 초기화\n",
    "\n",
    "#학습시키기\n",
    "for step in range(3500):\n",
    "    i = (step*100)%14000 #14000과 나눴을 때의 나머지\n",
    "    rows=data[1+i:1+i+100]\n",
    "    x_pat=rows[[\"weight\",\"height\"]]\n",
    "    y_ans=list(rows[\"label_pat\"])\n",
    "    fd={x:x_pat, Y:y_ans}\n",
    "    sess.run(train, feed_dict=fd)\n",
    "    if step%500==0:\n",
    "        ce=sess.run(cross_entropy, feed_dict=fd)            \n",
    "        acc=sess.run(accuracy, feed_dict={x:test_pat, Y:test_ans})\n",
    "        print(\"step=\", step, \"cre=\", ce, \"acc=\", acc)\n",
    "\n",
    "            \n",
    "#최종적인 정답률\n",
    "acc=sess.run(accuracy, feed_dict={x:test_pat, Y:test_ans})\n",
    "print(\"정답률=\",acc)"
   ]
  },
  {
   "cell_type": "code",
   "execution_count": 15,
   "metadata": {},
   "outputs": [],
   "source": [
    "#Tensorboard 보기 쉽게 정리하기\n",
    "#플레이스 홀더로 이름 붙이기\n",
    "x=tf.placeholder(tf.float32, [None, 2], name=\"x\")\n",
    "y_=tf.placeholder(tf.float32, [None, 3], name=\"y_\")\n",
    "\n",
    "#변수에 이름 붙이기\n",
    "W=tf.Variable(tf.zeros([2,3]), name=\"W\") #가중치\n",
    "b=tf.Variable(tf.zeros([3]), name=\"b\") #bias\n",
    "\n",
    "#interface 부분 scope로 묶기\n",
    "with tf.name_scope('interface') as scope: #tf.name_scope _ 처리를 스코프 단위로 분할 가능\n",
    "    W=tf.Variable(tf.zeros([2,3]), name=\"W\")\n",
    "    b=tf.Variable(tf.zeros([3]), name=\"b\")\n",
    "    #소프트맥스 회귀 정의\n",
    "    with tf.name_scope('softmax') as scope:\n",
    "        y=tf.nn.softmax(tf.matmul(x,W)+b)\n",
    "        \n",
    "#loss 계산을 scope로 묶기\n",
    "with tf.name_scope('loss') as scope:\n",
    "    cross_entropy=-tf.reduce_sum(y_ * tf.log(y))\n",
    "    \n",
    "#training계산을 scope로 묶기\n",
    "with tf.name_scope('training') as scope:\n",
    "    optimizer=tf.train.GradientDescentOptimizer(0.01)\n",
    "    trian=optimizer.minimize(cross_entropy)\n",
    "    \n",
    "#accuracy계산을 scope로 묶기\n",
    "with tf.name_scope('accuracy') as scope:\n",
    "    predict=tf.equal(tf.argmax(y,1), tf.argmax(y_,1))\n",
    "    accuracy=tf.reduce_mean(tf.cast(predict, tf.float32))"
   ]
  },
  {
   "cell_type": "code",
   "execution_count": null,
   "metadata": {},
   "outputs": [],
   "source": []
  }
 ],
 "metadata": {
  "kernelspec": {
   "display_name": "Python 3",
   "language": "python",
   "name": "python3"
  },
  "language_info": {
   "codemirror_mode": {
    "name": "ipython",
    "version": 3
   },
   "file_extension": ".py",
   "mimetype": "text/x-python",
   "name": "python",
   "nbconvert_exporter": "python",
   "pygments_lexer": "ipython3",
   "version": "3.6.6"
  }
 },
 "nbformat": 4,
 "nbformat_minor": 2
}
